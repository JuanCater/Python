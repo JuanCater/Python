{
 "cells": [
  {
   "cell_type": "markdown",
   "id": "1f02fb55",
   "metadata": {},
   "source": [
    "## Ejercicio 10\n",
    "\n",
    "1)Abrimos los archivos de texto en modo lectura"
   ]
  },
  {
   "cell_type": "code",
   "execution_count": 21,
   "id": "09a2e297",
   "metadata": {},
   "outputs": [],
   "source": [
    "nota1= open('eval1.txt', 'r')\n",
    "nota2 =open('eval2.txt','r')\n",
    "nombres = open('nombres_1.txt','r')"
   ]
  },
  {
   "cell_type": "markdown",
   "id": "b3804ed2",
   "metadata": {},
   "source": [
    "2)Leemos los nombres de los alumnos del archivo los convertimos en lista y les quitamos los ',\\n' y las \" ' \" con la funcion replace."
   ]
  },
  {
   "cell_type": "code",
   "execution_count": 22,
   "id": "93b9d488",
   "metadata": {},
   "outputs": [],
   "source": [
    "l_nombres= nombres.readlines()\n",
    "l_nombres= [valor.replace(',\\n','').replace(\"'\",'').strip() for valor in l_nombres]"
   ]
  },
  {
   "cell_type": "markdown",
   "id": "91e49ead",
   "metadata": {},
   "source": [
    "3)Leemos las notas 1 y las notas 2 de nuestro archivo, convertimos ambos en una lista y les quitamos su '\\n' y su \"'\" con la funcion replace."
   ]
  },
  {
   "cell_type": "code",
   "execution_count": 23,
   "id": "9e1f73b2",
   "metadata": {},
   "outputs": [],
   "source": [
    "l_nota1= nota1.readlines()\n",
    "l_nota1= [valor.replace('\\n','').replace(',','') for valor in l_nota1]\n",
    "l_nota2= nota2.readlines()\n",
    "l_nota2= [valor.replace('\\n','').replace(',','') for valor in l_nota2]"
   ]
  },
  {
   "cell_type": "markdown",
   "id": "78ba8847",
   "metadata": {},
   "source": [
    "4)Recorremos la lista de los alumnos y almacenamos sus datos y puntuaciones de ambas evaluaciones en un diccionario que contiene su nombre y otro diccionario con el valor de ambas evaluaciones"
   ]
  },
  {
   "cell_type": "code",
   "execution_count": 24,
   "id": "cf91f60a",
   "metadata": {
    "scrolled": false
   },
   "outputs": [
    {
     "name": "stdout",
     "output_type": "stream",
     "text": [
      "{'Agustin': {'eval1': '81', 'eval2': '30'}, 'Alan': {'eval1': ' 60', 'eval2': ' 95'}, 'Andrés': {'eval1': ' 72', 'eval2': ' 28'}, 'Ariadna': {'eval1': ' 24', 'eval2': ' 84'}, 'Bautista': {'eval1': ' 15', 'eval2': ' 84'}, 'CAROLINA': {'eval1': ' 91', 'eval2': ' 43'}, 'CESAR': {'eval1': ' 12', 'eval2': ' 66'}, 'David': {'eval1': ' 70', 'eval2': ' 51'}, 'Diego': {'eval1': ' 29', 'eval2': ' 4'}, 'Dolores': {'eval1': ' 42', 'eval2': ' 11'}, 'DYLAN': {'eval1': ' 16', 'eval2': ' 58'}, 'ELIANA': {'eval1': ' 3', 'eval2': ' 10'}, 'Emanuel': {'eval1': ' 35', 'eval2': ' 13'}, 'Fabián': {'eval1': ' 67', 'eval2': ' 34'}, 'Facundo': {'eval1': ' 57', 'eval2': ' 71'}, 'FEDERICO': {'eval1': ' 69', 'eval2': ' 37'}, 'GONZALO': {'eval1': ' 12', 'eval2': ' 64'}, 'Gregorio': {'eval1': ' 77', 'eval2': ' 13'}, 'Ignacio': {'eval1': ' 13', 'eval2': ' 8'}, 'Jonathan': {'eval1': ' 48', 'eval2': ' 14'}, 'Jorge': {'eval1': ' 65', 'eval2': ' 14'}, 'JOSE': {'eval1': ' 51', 'eval2': ' 49'}, 'JUAN': {'eval1': ' 41', 'eval2': ' 27'}, 'Juan': {'eval1': ' 43', 'eval2': ' 69'}, 'Julian': {'eval1': ' 10', 'eval2': ' 77'}, 'Julieta': {'eval1': ' 87', 'eval2': ' 59'}, 'LAUTARO': {'eval1': ' 91', 'eval2': ' 57'}, 'Leonel': {'eval1': ' 15', 'eval2': ' 40'}, 'LUIS': {'eval1': ' 44', 'eval2': ' 96'}, 'Luis': {'eval1': ' 85', 'eval2': ' 24'}, 'Marcos': {'eval1': ' 73', 'eval2': ' 30'}, 'María': {'eval1': ' 37', 'eval2': ' 73'}, 'MATEO': {'eval1': ' 42', 'eval2': ' 95'}, 'Matias': {'eval1': ' 95', 'eval2': ' 19'}, 'Nicolás': {'eval1': ' 18', 'eval2': ' 47'}, 'NICOLÁS': {'eval1': ' 7', 'eval2': ' 15'}, 'Noelia': {'eval1': ' 74', 'eval2': ' 31'}, 'Pablo': {'eval1': ' 60', 'eval2': ' 39'}, 'Priscila': {'eval1': ' 9', 'eval2': ' 15'}, 'TOMAS': {'eval1': ' 65', 'eval2': ' 74'}, 'Tomás': {'eval1': ' 93', 'eval2': ' 33'}, 'Ulises': {'eval1': ' 63', 'eval2': ' 57'}, 'Yanina': {'eval1': ' 74', 'eval2': ' 10'}}\n"
     ]
    }
   ],
   "source": [
    "dicc_alumnos={}\n",
    "for i in range (len(l_nombres)):\n",
    "    dicc_notas={}\n",
    "    dicc_notas['eval1']= l_nota1[i]\n",
    "    dicc_notas['eval2']= l_nota2[i]\n",
    "    dicc_alumnos[l_nombres[i]]= dicc_notas\n",
    "print (dicc_alumnos)"
   ]
  }
 ],
 "metadata": {
  "kernelspec": {
   "display_name": "Python 3 (ipykernel)",
   "language": "python",
   "name": "python3"
  },
  "language_info": {
   "codemirror_mode": {
    "name": "ipython",
    "version": 3
   },
   "file_extension": ".py",
   "mimetype": "text/x-python",
   "name": "python",
   "nbconvert_exporter": "python",
   "pygments_lexer": "ipython3",
   "version": "3.10.2"
  }
 },
 "nbformat": 4,
 "nbformat_minor": 5
}
